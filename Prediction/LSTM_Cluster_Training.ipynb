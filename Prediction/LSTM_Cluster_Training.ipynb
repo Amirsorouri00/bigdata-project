{
  "cells": [
    {
      "cell_type": "markdown",
      "metadata": {
        "colab_type": "text",
        "id": "nD3EGW0Ot3BX"
      },
      "source": [
        "$\\textbf{Code}$"
      ]
    },
    {
      "cell_type": "markdown",
      "metadata": {
        "colab_type": "text",
        "id": "XpcQQtHjt2Re"
      },
      "source": [
        "## Libraries required"
      ]
    },
    {
      "cell_type": "code",
      "execution_count": null,
      "metadata": {
        "colab": {},
        "colab_type": "code",
        "id": "2ei_Jer-t1ap"
      },
      "outputs": [],
      "source": [
        "# Importing packages\n",
        "import matplotlib.pyplot as plt\n",
        "import numpy as np\n",
        "import torch\n",
        "import torch.nn as nn\n",
        "import torch.optim as optim\n",
        "import math\n",
        "import pandas as pd\n",
        "device = torch.device(\"cuda:0\" if torch.cuda.is_available() else \"cpu\")\n",
        "import torch.nn.functional as F"
      ]
    },
    {
      "cell_type": "markdown",
      "metadata": {
        "colab_type": "text",
        "id": "kzXHjCd9t-W3"
      },
      "source": [
        "## Functions used"
      ]
    },
    {
      "cell_type": "markdown",
      "metadata": {
        "colab_type": "text",
        "id": "VFRq8RsQxizi"
      },
      "source": [
        "### Input prepartion functions"
      ]
    },
    {
      "cell_type": "code",
      "execution_count": null,
      "metadata": {},
      "outputs": [],
      "source": [
        "data = pd.read_csv(filename)\n",
        "df = pd.DataFrame(data)\n",
        "df = df.drop(columns=['#date', 'ssh[m]', 'average_ssh[m]', 'geoid_height[m]', 'tide_height[cm]'])\n",
        "df['timestamp'] = pd.to_timedelta(df['time']).astype('timedelta64[s]').astype(int)\n",
        "df['relative_timestamp'] = df['timestamp']-df['timestamp'][0]\n",
        "df = df.drop(columns=['time', 'timestamp'])\n",
        "tl = int(len(df)*0.68)\n",
        "trainTensor = torch.zeros(tl, 3).to(device)\n",
        "trainTensor[0][0] = df['latitude'][0]\n",
        "trainTensor[0][1] = df['longitude'][0]\n",
        "trainTensor[0][2] = df['flight_altitude[m]'][0]\n",
        "print(trainTensor.shape)"
      ]
    },
    {
      "cell_type": "markdown",
      "metadata": {
        "colab_type": "text",
        "id": "zDCuEzwSyJWJ"
      },
      "source": [
        "Convert trajectory tensor to our required format"
      ]
    },
    {
      "cell_type": "code",
      "execution_count": null,
      "metadata": {
        "colab": {},
        "colab_type": "code",
        "id": "uu-XiT9Ls1X4"
      },
      "outputs": [],
      "source": [
        "def trajectory_conversion(trajectory):\n",
        "  input_trajectory = torch.zeros(len(trajectory), 3)\n",
        "  for i in range(1, trajectory.size()[0]):\n",
        "    del_x = trajectory[i][0]-trajectory[i-1][0]\n",
        "    del_y = trajectory[i][1]-trajectory[i-1][1]\n",
        "    del_z = trajectory[i][2]-trajectory[i-1][2]\n",
        "\n",
        "    input_trajectory[i][0] = del_x\n",
        "\n",
        "    input_trajectory[i][1] = del_y\n",
        "\n",
        "    input_trajectory[i][2] = del_z\n",
        "\n",
        "  return input_trajectory"
      ]
    },
    {
      "cell_type": "code",
      "execution_count": null,
      "metadata": {
        "colab": {},
        "colab_type": "code",
        "id": "sgKbB7259KTH"
      },
      "outputs": [],
      "source": [
        "def create_inout_sequences(input_data, tw=100):\n",
        "    inout_seq = []\n",
        "    L = len(input_data)\n",
        "    for i in range(L-tw):\n",
        "        train_seq = input_data[i:i+tw].to(device)\n",
        "        train_label = input_data[i+tw].to(device) #changed to correct error\n",
        "        inout_seq.append((train_seq ,train_label))\n",
        "    return inout_seq"
      ]
    },
    {
      "cell_type": "markdown",
      "metadata": {
        "colab_type": "text",
        "id": "es7cNVCGuOdZ"
      },
      "source": [
        "### model"
      ]
    },
    {
      "cell_type": "code",
      "execution_count": null,
      "metadata": {
        "colab": {},
        "colab_type": "code",
        "id": "rgVFYWi7xWZc"
      },
      "outputs": [],
      "source": [
        "class LSTM(nn.Module):\n",
        "    def __init__(self, input_size=3, hidden_layer_size=128, output_size=3):\n",
        "        super().__init__()\n",
        "        self.hidden_layer_size = hidden_layer_size\n",
        "\n",
        "        self.lstm = nn.LSTM(input_size, hidden_layer_size)\n",
        "\n",
        "        self.linear = nn.Linear(hidden_layer_size, output_size)\n",
        "\n",
        "        self.hidden_cell = (torch.zeros(1,1,self.hidden_layer_size, device=device),\n",
        "                            torch.zeros(1,1,self.hidden_layer_size, device=device))\n",
        "\n",
        "    def forward(self, input_seq):\n",
        "        lstm_out, self.hidden_cell = self.lstm(input_seq.view(len(input_seq) ,1, -1), self.hidden_cell)\n",
        "        lstm_out = F.relu(lstm_out.view(len(input_seq), -1))\n",
        "        predictions = self.linear(lstm_out.view(len(input_seq), -1))\n",
        "        return predictions[-1]"
      ]
    },
    {
      "cell_type": "markdown",
      "metadata": {
        "colab_type": "text",
        "id": "MqGtTvZ5xtp4"
      },
      "source": [
        "### training"
      ]
    },
    {
      "cell_type": "code",
      "execution_count": null,
      "metadata": {
        "colab": {},
        "colab_type": "code",
        "id": "xLXpDchgzYIG"
      },
      "outputs": [],
      "source": [
        "def train_model(net, train_inout_seq, lr=0.001, epochs=20, device=device):\n",
        "  model = net.to(device)\n",
        "  optimizer = torch.optim.Adam(model.parameters(), lr=lr)\n",
        "  loss_function = nn.MSELoss()\n",
        "  model.train()\n",
        "  #print(model)\n",
        "  for i in range(epochs):\n",
        "    #optimizer.zero_grad()\n",
        "    for seq, labels in train_inout_seq:\n",
        "      optimizer.zero_grad()\n",
        "      model.hidden_cell = (torch.zeros(1, 1, model.hidden_layer_size, device=device), torch.zeros(1, 1, model.hidden_layer_size, device=device))\n",
        "\n",
        "      pred = model(seq)\n",
        "\n",
        "      single_loss = loss_function(pred, labels)\n",
        "      single_loss.backward()\n",
        "      optimizer.step()\n",
        "    #optimizer.step()\n",
        "\n",
        "  return model"
      ]
    },
    {
      "cell_type": "code",
      "execution_count": null,
      "metadata": {
        "colab": {},
        "colab_type": "code",
        "id": "qytafco7Nhyl"
      },
      "outputs": [],
      "source": [
        "def getTrain_TestTensor(filename):\n",
        "  data = pd.read_csv(filename)\n",
        "  df = pd.DataFrame(data)\n",
        "  df = df.drop(columns=['#date', 'ssh[m]', 'average_ssh[m]', 'geoid_height[m]', 'tide_height[cm]'])\n",
        "  df['timestamp'] = pd.to_timedelta(df['time']).astype('timedelta64[s]').astype(int)\n",
        "  df['relative_timestamp'] = df['timestamp']-df['timestamp'][0]\n",
        "  df = df.drop(columns=['time', 'timestamp'])\n",
        "  tl = int(len(df)*0.68)\n",
        "  print(tl)\n",
        "  testSize = int(len(df)) - tl\n",
        "  print(testSize)\n",
        "\n",
        "  trainTensor = torch.zeros(tl, 3).to(device)\n",
        "  trainTensor[0][0] = df['latitude'][0]\n",
        "  trainTensor[0][1] = df['longitude'][0]\n",
        "  trainTensor[0][2] = df['flight_altitude[m]'][0]\n",
        "  print(trainTensor.shape)\n",
        "  #Remove unneccary points\n",
        "  j = 0\n",
        "  for i in range(1, tl):\n",
        "    if(df['relative_timestamp'][i]!=df['relative_timestamp'][i-1]):\n",
        "      j+=1\n",
        "      trainTensor[j][0] = df['latitude'][i]\n",
        "      trainTensor[j][1] = df['longitude'][i]\n",
        "      trainTensor[j][2] = df['flight_altitude[m]'][i]\n",
        "  trainTensor = trainTensor[trainTensor.abs().sum(dim=1) != 0]\n",
        "  testTensor = torch.zeros(testSize, 3).to(device)\n",
        "  testTensor[0][0] = df['latitude'][tl]\n",
        "  testTensor[0][1] = df['longitude'][tl]\n",
        "  testTensor[0][2] = df['flight_altitude[m]'][tl]\n",
        "  j = 0\n",
        "  for i in range(tl, len(df)):\n",
        "    if(df['relative_timestamp'][i]!=df['relative_timestamp'][i-1]):\n",
        "      j+=1\n",
        "      testTensor[j][0] = df['latitude'][i]\n",
        "      testTensor[j][1] = df['longitude'][i]\n",
        "      testTensor[j][2] = df['flight_altitude[m]'][i]\n",
        "  testTensor = testTensor[testTensor.abs().sum(dim=1) != 0]\n",
        "  print(len(trainTensor), end = ' ')\n",
        "  print(len(testTensor))\n",
        "  return [trainTensor, testTensor]"
      ]
    },
    {
      "cell_type": "markdown",
      "metadata": {
        "colab_type": "text",
        "id": "4BcGKVOYynMZ"
      },
      "source": [
        "### testing/predicting"
      ]
    },
    {
      "cell_type": "code",
      "execution_count": null,
      "metadata": {
        "colab": {},
        "colab_type": "code",
        "id": "rP2QLpNmdll2"
      },
      "outputs": [],
      "source": [
        "def predict_30(model, conv_tT, trainTensor, fut_pred=30, device=device):\n",
        "  test_inputs = conv_tT[-train_window:]\n",
        "  model.eval()\n",
        "  for i in range(fut_pred):\n",
        "    seq = test_inputs[-train_window:].to(device)\n",
        "    with torch.no_grad():\n",
        "      model.hidden = (torch.zeros(1, 1, model.hidden_layer_size, device=device), torch.zeros(1, 1, model.hidden_layer_size, device=device))\n",
        "      Pred = model(seq)\n",
        "      newObservation = torch.tensor([[Pred[0], Pred[1], Pred[2]]])      \n",
        "      torch.cat((test_inputs, newObservation))\n",
        "  X = []\n",
        "  Y = []\n",
        "  Z = []\n",
        "  trainTensor[-1][0].item()\n",
        "  trainTensor[-1][1].item()\n",
        "  for x, y, z in test_inputs[-fut_pred:]:\n",
        "    X.append(x)\n",
        "    Y.append(y)\n",
        "    Z.append(z)\n",
        "    #print(x, y, z)\n",
        "  X = np.asarray(X)\n",
        "  Y = np.asarray(Y)\n",
        "  Z = np.asarray(Z)\n",
        "  X = np.cumsum(X)\n",
        "  Y = np.cumsum(Y)\n",
        "  Z = np.cumsum(Z)\n",
        "  X_f = X+trainTensor[-1][0].item()\n",
        "  Y_f = Y+trainTensor[-1][1].item()\n",
        "  Z_f = Z+trainTensor[-1][2].item()\n",
        "  #plt.plot(X_f, Y_f)\n",
        "  #plt.show()\n",
        "  #print(X_f)\n",
        "  #print(Y_f)\n",
        "  predicted = torch.zeros(fut_pred, 3).to(device)\n",
        "  for i in range(fut_pred):\n",
        "    predicted[i][0] = X_f[i].item()\n",
        "    predicted[i][1] = Y_f[i].item()\n",
        "    predicted[i][2] = Z_f[i].item()\n",
        "  return [predicted, X_f, Y_f, Z_f]"
      ]
    },
    {
      "cell_type": "code",
      "execution_count": null,
      "metadata": {
        "colab": {},
        "colab_type": "code",
        "id": "JnfokzP_qY22"
      },
      "outputs": [],
      "source": [
        "def Completed_trajectory(model, conv_tT, trainTensor, fut_pred, testTensor, plot=True, device=device, merge=False):\n",
        "  X_f = np.asarray([])\n",
        "  Y_f = np.asarray([])\n",
        "  Z_f = np.asarray([])\n",
        "  predicted_tensor = torch.zeros(1, 3).to(device)\n",
        "  predicted_tensor[0] = trainTensor[-1]\n",
        "  temp = trainTensor[:]\n",
        "  for i in range(int(fut_pred/30)):\n",
        "    pred = predict_30(model, conv_tT, temp, 30, device)\n",
        "    temp = torch.cat((temp, pred[0]))\n",
        "    predicted_tensor = torch.cat((predicted_tensor, pred[0]))\n",
        "    X_f = np.concatenate((X_f, pred[1]), axis=0)\n",
        "    Y_f = np.concatenate((Y_f, pred[2]), axis=0)\n",
        "    Z_f = np.concatenate((Z_f, pred[3]), axis=0)\n",
        "  if fut_pred%30!=0:\n",
        "    pred = predict_30(model, conv_tT, temp, int(fut_pred%30), device)\n",
        "    temp = torch.cat((temp, pred[0]))\n",
        "    predicted_tensor = torch.cat((predicted_tensor, pred[0]))\n",
        "    X_f = np.concatenate((X_f, pred[1]), axis=0)\n",
        "    Y_f = np.concatenate((Y_f, pred[2]), axis=0)\n",
        "    Z_f = np.concatenate((Z_f, pred[3]), axis=0)\n",
        "\n",
        "  if plot:\n",
        "    plt.plot(trainTensor[:, :1].cpu(), trainTensor[:, 2:].cpu(), label='train')\n",
        "    plt.plot(testTensor[:, :1].cpu(), testTensor[:, 2:].cpu(), label='test')\n",
        "    plt.xlabel('latitude')\n",
        "    plt.ylabel('altitude')\n",
        "    plt.legend()\n",
        "    plt.show()\n",
        "\n",
        "    plt.plot(trainTensor[:, :1].cpu(), trainTensor[:, 2:].cpu(), label='train')\n",
        "    plt.plot(X_f, Z_f, label='predicted')\n",
        "    plt.xlabel('latitude')\n",
        "    plt.ylabel('altitude')\n",
        "    plt.legend()\n",
        "    plt.show()\n",
        "\n",
        "    plt.plot(trainTensor[:, :1].cpu(), trainTensor[:, 2:].cpu(), label='train')\n",
        "    plt.plot(testTensor[:, :1].cpu(), testTensor[:, 2:].cpu(), label='test')\n",
        "    plt.plot(X_f, Z_f, label='predicted')\n",
        "    plt.xlabel('latitude')\n",
        "    plt.ylabel('altitude')\n",
        "    plt.legend()\n",
        "    plt.show()\n",
        "  if(merge):\n",
        "    return temp\n",
        "  return predicted_tensor[1:]"
      ]
    },
    {
      "cell_type": "markdown",
      "metadata": {
        "colab_type": "text",
        "id": "8_4pCu5TNuLh"
      },
      "source": [
        "# Main"
      ]
    },
    {
      "cell_type": "code",
      "execution_count": null,
      "metadata": {
        "colab": {},
        "colab_type": "code",
        "id": "seIuVSryRmZP"
      },
      "outputs": [],
      "source": [
        "def getTrain_TestTensor2(filename):\n",
        "  rm = 52\n",
        "  data = pd.read_csv(filename)\n",
        "  df = pd.DataFrame(data)\n",
        "  z = (df['alt']*1e5).rolling(rm+1).mean()\n",
        "  tl = int((len(df)-rm)*0.68)\n",
        "  print(tl)\n",
        "  testSize = int(len(df)-rm) - tl\n",
        "  print(testSize)\n",
        "\n",
        "  trainTensor = torch.zeros(tl, 3).to(device)\n",
        "  trainTensor[0][0] = df['lat'][rm]\n",
        "  trainTensor[0][1] = df['lon'][rm]\n",
        "  trainTensor[0][2] = z[rm]*1e5\n",
        "  print(trainTensor.shape)\n",
        "  #Remove unneccary points\n",
        "\n",
        "  for i in range(1, tl):\n",
        "    trainTensor[i][0] = df['lat'][rm+i]\n",
        "    trainTensor[i][1] = df['lon'][rm+i]\n",
        "    trainTensor[i][2] = z[rm+i]*1e5\n",
        "  #trainTensor = trainTensor[trainTensor.abs().sum(dim=1) != 0]\n",
        "  testTensor = torch.zeros(testSize, 3).to(device)\n",
        "  testTensor[0][0] = df['lat'][rm+tl]\n",
        "  testTensor[0][1] = df['lon'][rm+tl]\n",
        "  testTensor[0][2] = z[rm+tl]*1e5\n",
        "  j = 0\n",
        "  for i in range(tl, len(df)-rm):\n",
        "    testTensor[j][0] = df['lat'][rm+i]\n",
        "    testTensor[j][1] = df['lon'][rm+i]\n",
        "    testTensor[j][2] = z[rm+i]*1e5\n",
        "    j+=1\n",
        "  #testTensor = testTensor[testTensor.abs().sum(dim=1) != 0]\n",
        "  #print(len(trainTensor), end = ' ')\n",
        "  #print(len(testTensor))\n",
        "  return [trainTensor, testTensor]"
      ]
    },
    {
      "cell_type": "markdown",
      "metadata": {
        "colab_type": "text",
        "id": "TJ7IFlysEzTx"
      },
      "source": [
        "## Training DB_model"
      ]
    },
    {
      "cell_type": "code",
      "execution_count": null,
      "metadata": {
        "colab": {},
        "colab_type": "code",
        "id": "JPoAr-z6FMSJ"
      },
      "outputs": [],
      "source": [
        "import glob\n",
        "n = 0\n",
        "for f in glob.iglob('/data/input/gps_logs_test.csv'):\n",
        "  trainingTensor, testingTensor = getTrain_TestTensor2(f)\n",
        "  train_window = 50\n",
        "  conv_tT = trajectory_conversion(trainTensor)\n",
        "  train_inout_seq = create_inout_sequences(conv_tT, train_window)\n",
        "  name = 'DB_model_'+str(n)+'.pth'\n",
        "  net = LSTM()\n",
        "  net.load_state_dict(torch.load(name))\n",
        "  tm = train_model(net, train_inout_seq, epochs=15) #training code\n",
        "  n+=1\n",
        "  name = 'DB_model_'+str(n)+'.pth'\n",
        "  torch.save(tm.state_dict(), name)"
      ]
    },
    {
      "cell_type": "markdown",
      "metadata": {
        "colab_type": "text",
        "id": "EeG4d3UtE7tA"
      },
      "source": [
        "## Training Missile_model"
      ]
    },
    {
      "cell_type": "code",
      "execution_count": null,
      "metadata": {
        "colab": {},
        "colab_type": "code",
        "id": "06A76kjsFRGX"
      },
      "outputs": [],
      "source": [
        "# Train the first file\n",
        "file1 = '/data/input/gps_logs_train.csv'\n",
        "trainTensor, testTensor = getTrain_TestTensor2(file1)\n",
        "print(trainTensor)\n",
        "plt.plot(trainTensor[:, :1].cpu().numpy(), trainTensor[:, 2:].cpu().numpy())\n",
        "plt.plot(testTensor[:, :1].cpu().numpy(), testTensor[:, 2:].cpu().numpy())\n",
        "plt.show()\n",
        "\n",
        "train_window = 50\n",
        "testSize = len(testTensor)\n",
        "conv_tT = trajectory_conversion(trainTensor)\n",
        "train_inout_seq = create_inout_sequences(conv_tT, train_window)\n",
        "net = LSTM()\n",
        "tm = train_model(net, train_inout_seq, epochs=15) #training code\n",
        "torch.save(tm.state_dict(), 'missile_model_0.pth')"
      ]
    },
    {
      "cell_type": "code",
      "execution_count": null,
      "metadata": {
        "colab": {},
        "colab_type": "code",
        "id": "SOc24EQTFRGa"
      },
      "outputs": [],
      "source": [
        "import glob\n",
        "n = 0\n",
        "for f in glob.iglob(r'/content/data/Missile/traj3?.csv'):\n",
        "  print(f)\n",
        "  if f=='/content/data/Missile/traj31.csv':\n",
        "    continue\n",
        "  trainingTensor, testingTensor = getTrain_TestTensor2(f)\n",
        "  train_window = 50\n",
        "  conv_tT = trajectory_conversion(trainTensor)\n",
        "  train_inout_seq = create_inout_sequences(conv_tT, train_window)\n",
        "  name = 'missile_model_'+str(n)+'.pth'\n",
        "  net = LSTM()\n",
        "  net.load_state_dict(torch.load(name))\n",
        "  tm = train_model(net, train_inout_seq, epochs=15) #training code\n",
        "  n+=1\n",
        "  name = 'missile_model_'+str(n)+'.pth'\n",
        "  torch.save(tm.state_dict(), name)"
      ]
    },
    {
      "cell_type": "markdown",
      "metadata": {
        "colab_type": "text",
        "id": "US1TkDTQFBSh"
      },
      "source": [
        "## Training FJ_model"
      ]
    },
    {
      "cell_type": "code",
      "execution_count": null,
      "metadata": {
        "colab": {},
        "colab_type": "code",
        "id": "7ETE7AMvFTRF"
      },
      "outputs": [],
      "source": [
        "# Train the first file\n",
        "file1 = '/data/input/gps_logs.csv'\n",
        "trainTensor, testTensor = getTrain_TestTensor2(file1)\n",
        "print(trainTensor)\n",
        "#plt.plot(trainTensor[:, :1].cpu().numpy(), trainTensor[:, 2:].cpu().numpy())\n",
        "#plt.plot(testTensor[:, :1].cpu().numpy(), testTensor[:, 2:].cpu().numpy())\n",
        "#plt.show()\n",
        "\n",
        "train_window = 50\n",
        "testSize = len(testTensor)\n",
        "conv_tT = trajectory_conversion(trainTensor)\n",
        "train_inout_seq = create_inout_sequences(conv_tT, train_window)\n",
        "net = LSTM()\n",
        "tm = train_model(net, train_inout_seq, epochs=15) #training code\n",
        "torch.save(tm.state_dict(), 'FJ_model_0.pth')"
      ]
    },
    {
      "cell_type": "code",
      "execution_count": null,
      "metadata": {
        "colab": {},
        "colab_type": "code",
        "id": "6G_VPXpPFTRH"
      },
      "outputs": [],
      "source": [
        "import glob\n",
        "n = 0\n",
        "for f in glob.iglob(r'/data/input/gps_logs.csv'):\n",
        "  print(f)\n",
        "  trainingTensor, testingTensor = getTrain_TestTensor2(f)\n",
        "  train_window = 50\n",
        "  conv_tT = trajectory_conversion(trainTensor)\n",
        "  train_inout_seq = create_inout_sequences(conv_tT, train_window)\n",
        "  name = 'FJ_model_'+str(n)+'.pth'\n",
        "  net = LSTM()\n",
        "  net.load_state_dict(torch.load(name))\n",
        "  tm = train_model(net, train_inout_seq, epochs=15) #training code\n",
        "  n+=1\n",
        "  name = 'FJ_model_'+str(n)+'.pth'\n",
        "  torch.save(tm.state_dict(), name)"
      ]
    }
  ],
  "metadata": {
    "accelerator": "GPU",
    "colab": {
      "collapsed_sections": [
        "4BcGKVOYynMZ"
      ],
      "name": "RNN_CLUSTER.ipynb",
      "provenance": [],
      "toc_visible": true
    },
    "kernelspec": {
      "display_name": "Python 3",
      "language": "python",
      "name": "python3"
    },
    "language_info": {
      "name": "python",
      "version": "3.10.8 (main, Oct 13 2022, 09:48:40) [Clang 14.0.0 (clang-1400.0.29.102)]"
    },
    "vscode": {
      "interpreter": {
        "hash": "b0fa6594d8f4cbf19f97940f81e996739fb7646882a419484c72d19e05852a7e"
      }
    }
  },
  "nbformat": 4,
  "nbformat_minor": 0
}
